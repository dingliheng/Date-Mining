{
 "cells": [
  {
   "cell_type": "markdown",
   "metadata": {},
   "source": [
    "# <p style=\"text-align: center;\">EE 380L: Data Mining</p>\n",
    "# <p style=\"text-align: center;\">Assignment 2</p>\n",
    "## <p style=\"text-align: center;\">Total points: 55 </p>\n",
    "## <p style=\"text-align: center;\">Due: Tuesday, Feb. 14, submitted via Canvas by 11:59pm</p>\n",
    "\n",
    "\n",
    "Your homework should be written in a **Jupyter notebook**. You may work in teams of two if you wish. Only one student per team needs to submit the assignment on Canvas. But be sure to include name and UTID for both students.  Also, please make sure your code runs and the graphics (and anything else) are displayed in your notebook before submitting."
   ]
  },
  {
   "cell_type": "markdown",
   "metadata": {},
   "source": [
    "# Question 1: Ridge and Lasso Regression (15 points)\n",
    "Use the following codes to import the diabetes dataset."
   ]
  },
  {
   "cell_type": "code",
   "execution_count": 1,
   "metadata": {
    "collapsed": true
   },
   "outputs": [],
   "source": [
    "from sklearn import datasets\n",
    "diabetes = datasets.load_diabetes()\n",
    "X = diabetes.data\n",
    "y = diabetes.target"
   ]
  },
  {
   "cell_type": "markdown",
   "metadata": {},
   "source": [
    "The dataset consists of ten features and one target variable.  More information is found at http://scikit-learn.org/stable/datasets/index.html#diabetes-dataset\n",
    "\n",
    "After importing the datasets, use the following code to add additional interaction variables to the features matrix.  You should have 55 variables (including 45 interaction variables) and one target variable. Note that this code adds one term for every pair of variables; in practice one may introduce only a few select interaction terms based on domain knowledge or experimentation."
   ]
  },
  {
   "cell_type": "code",
   "execution_count": 2,
   "metadata": {
    "collapsed": false
   },
   "outputs": [],
   "source": [
    "from sklearn.preprocessing import PolynomialFeatures\n",
    "X = PolynomialFeatures(2, interaction_only=True, include_bias=False).fit_transform(X)"
   ]
  },
  {
   "cell_type": "markdown",
   "metadata": {},
   "source": [
    "In this question, you will explore the application of Lasso and Ridge regression using sklearn package in Python. The following code will split the data into training and test set using [train_test_split](http://scikit-learn.org/stable/modules/generated/sklearn.model_selection.train_test_split.html) with **random state 20** and **test_size = 0.33**.  Note: lambda is called alpha in sklearn."
   ]
  },
  {
   "cell_type": "code",
   "execution_count": 3,
   "metadata": {
    "collapsed": false
   },
   "outputs": [
    {
     "name": "stderr",
     "output_type": "stream",
     "text": [
      "/Users/kyungwoo/anaconda/lib/python2.7/site-packages/sklearn/cross_validation.py:44: DeprecationWarning: This module was deprecated in version 0.18 in favor of the model_selection module into which all the refactored classes and functions are moved. Also note that the interface of the new CV iterators are different from that of this module. This module will be removed in 0.20.\n",
      "  \"This module will be removed in 0.20.\", DeprecationWarning)\n"
     ]
    }
   ],
   "source": [
    "from sklearn.cross_validation import train_test_split\n",
    "X_train, X_test, y_train, y_test = train_test_split(X,y,test_size = 0.33, random_state=20)"
   ]
  },
  {
   "cell_type": "markdown",
   "metadata": {},
   "source": [
    "1) Use sklearn.linear_model.Lasso and sklearn.linear_model.Ridge classes to do a [5-fold cross validation](http://scikit-learn.org/stable/auto_examples/exercises/plot_cv_diabetes.html#example-exercises-plot-cv-diabetes-py) using sklearn's [KFold](http://scikit-learn.org/stable/modules/generated/sklearn.cross_validation.KFold.html). For the sweep of the regularization parameter, we will look at a grid of values ranging from $\\lambda = 10^{10}$ to $\\lambda = 10^{-2}$. In Python, you can consider this range of values as follows:\n",
    "\n",
    "      import numpy as np\n",
    "\n",
    "      alphas =  10**np.linspace(10,-2,100)*0.5\n",
    "\n",
    "  Report the best chosen $\\lambda$ based on cross validation. The cross validation should happen on your training data using  average MSE as the scoring metric. (5pts)\n",
    "\n",
    "2) Run ridge and lasso for all of the alphas specified above (on training data), and plot the coefficients learned for each of them - there should be one plot each for lasso and ridge, so a total of two plots; the plots for different features for a method should be on the same plot (e.g. Fig 6.6 of JW). What do you qualitatively observe when value of the regularization parameter is changed? (4pts)\n",
    "\n",
    "3) Run least squares regression, ridge, and lasso on the training data. For ridge and lasso, use only the best regularization parameter. Report the prediction error (MSE) on the test data for each. (3pts)\n",
    "\n",
    "4) Run lasso again with cross validation using [sklearn.linear_model.LassoCV](http://scikit-learn.org/stable/modules/generated/sklearn.linear_model.LassoCV.html). Set the cross validation parameters as follows:\n",
    "\n",
    "    LassoCV(alphas=None, cv=10, max_iter=10000)\n",
    "\n",
    "Report the best $\\lambda$ based on cross validation. Run lasso on the training data using the best $\\lambda$ and report the coefficeints for 55 variables. What do you observe from these coefficients? (3pts)"
   ]
  },
  {
   "cell_type": "markdown",
   "metadata": {},
   "source": [
    "## Solution\n",
    "\n",
    "### 1)"
   ]
  },
  {
   "cell_type": "code",
   "execution_count": 4,
   "metadata": {
    "collapsed": false
   },
   "outputs": [
    {
     "name": "stdout",
     "output_type": "stream",
     "text": [
      "Best lasso alpha: 0.00660970574233\n",
      "Best ridge alpha: 0.005\n"
     ]
    }
   ],
   "source": [
    "import pandas as pd\n",
    "from sklearn import cross_validation\n",
    "from sklearn import linear_model\n",
    "from sklearn.metrics import mean_squared_error, accuracy_score\n",
    "from sklearn.linear_model import LinearRegression, RidgeCV, LassoCV\n",
    "from sklearn.preprocessing import StandardScaler\n",
    "\n",
    "import numpy as np\n",
    "import matplotlib.pyplot as plt\n",
    "\n",
    "n_folds = 5\n",
    "k_fold = cross_validation.KFold(len(X_train), n_folds)\n",
    "lasso_alphas =  10**np.linspace(10,-2,100)*0.5\n",
    "lasso_avg_rmse = {}\n",
    "\n",
    "for alpha in lasso_alphas:\n",
    "    lasso = linear_model.Lasso(alpha=alpha)\n",
    "    avg_mse = 0\n",
    "    for k, (train, test) in enumerate(k_fold):\n",
    "        lasso.fit(X_train[train], y_train[train])\n",
    "        avg_mse = avg_mse + mean_squared_error(y_train[test], lasso.predict(X_train[test])) \n",
    "    lasso_avg_rmse[alpha] = avg_mse / n_folds\n",
    "best_alpha_lasso = min(lasso_avg_rmse, key=lasso_avg_rmse.get)\n",
    "print(\"Best lasso alpha: {}\".format(best_alpha_lasso))\n",
    "\n",
    "\n",
    "ridge_alphas =  10**np.linspace(10,-2,100)*0.5\n",
    "ridge_avg_rmse = {}\n",
    "\n",
    "for alpha in ridge_alphas:\n",
    "    ridge = linear_model.Ridge(alpha=alpha)\n",
    "    avg_mse = 0\n",
    "    for k, (train, test) in enumerate(k_fold):\n",
    "        ridge.fit(X_train[train], y_train[train])\n",
    "        avg_mse = avg_mse + mean_squared_error(y_train[test], ridge.predict(X_train[test])) \n",
    "    ridge_avg_rmse[alpha] = avg_mse / n_folds\n",
    "best_alpha_ridge = min(ridge_avg_rmse, key=ridge_avg_rmse.get)\n",
    "print(\"Best ridge alpha: {}\".format(best_alpha_ridge))"
   ]
  },
  {
   "cell_type": "markdown",
   "metadata": {},
   "source": [
    "### 2)"
   ]
  },
  {
   "cell_type": "code",
   "execution_count": 5,
   "metadata": {
    "collapsed": false
   },
   "outputs": [],
   "source": [
    "alphas = 10**np.linspace(10,-2,100)*0.5\n",
    "\n",
    "ridge = linear_model.Ridge(alpha=alpha)\n",
    "coefs = []\n",
    "\n",
    "for a in alphas:\n",
    "    ridge.set_params(alpha=a)\n",
    "    ridge.fit(X_train, y_train)\n",
    "    coefs.append(ridge.coef_)\n",
    "\n",
    "plt.figure()\n",
    "ax = plt.gca()\n",
    "ax.plot(alphas, coefs)\n",
    "ax.set_xscale('log')\n",
    "ax.set_xlim(ax.get_xlim()[::-1])  # reverse axis\n",
    "plt.axis('tight')\n",
    "plt.xlabel('alpha')\n",
    "plt.ylabel('weights')\n",
    "plt.title('Ridge coefficients as a function of the regularization');"
   ]
  },
  {
   "cell_type": "code",
   "execution_count": 6,
   "metadata": {
    "collapsed": false
   },
   "outputs": [],
   "source": [
    "alphas = 10**np.linspace(10,-2,100)*0.5\n",
    "\n",
    "lasso = linear_model.Lasso(alpha=alpha)\n",
    "coefs = []\n",
    "\n",
    "for a in alphas:\n",
    "    lasso.set_params(alpha=a)\n",
    "    lasso.fit(X_train, y_train)\n",
    "    coefs.append(lasso.coef_)\n",
    "\n",
    "plt.figure()\n",
    "ax = plt.gca()\n",
    "ax.plot(alphas, coefs)\n",
    "ax.set_xscale('log')\n",
    "ax.set_xlim(ax.get_xlim()[::-1])  # reverse axis\n",
    "plt.axis('tight')\n",
    "plt.xlabel('alpha')\n",
    "plt.ylabel('weights')\n",
    "plt.title('Lasso coefficients as a function of the regularization');"
   ]
  },
  {
   "cell_type": "markdown",
   "metadata": {},
   "source": [
    "Lasso tends to zero out the feature coefficients while Ridge decreases the magnitude of the feature coefficients."
   ]
  },
  {
   "cell_type": "markdown",
   "metadata": {},
   "source": [
    "### 3)"
   ]
  },
  {
   "cell_type": "code",
   "execution_count": 7,
   "metadata": {
    "collapsed": false
   },
   "outputs": [
    {
     "name": "stdout",
     "output_type": "stream",
     "text": [
      "MSE for linear: 3377.94455926\n",
      "MSE for ridge: 2959.81880664\n",
      "MSE for lasso: 2972.25999624\n"
     ]
    }
   ],
   "source": [
    "#%% (3) - train and test MSE\n",
    "linear_clf = linear_model.LinearRegression()\n",
    "ridge_clf = linear_model.Ridge(alpha=best_alpha_ridge)\n",
    "lasso_clf = linear_model.Lasso(alpha=best_alpha_lasso)\n",
    "\n",
    "def fit_reg(model, name):\n",
    "    model.fit(X_train, y_train)\n",
    "    pred = model.predict(X_test)\n",
    "    mse = mean_squared_error(pred, y_test)\n",
    "    print(\"MSE for {0}: {1}\".format(name, mse))\n",
    "\n",
    "fit_reg(linear_clf, \"linear\")\n",
    "fit_reg(ridge_clf, \"ridge\")\n",
    "fit_reg(lasso_clf, \"lasso\")"
   ]
  },
  {
   "cell_type": "markdown",
   "metadata": {},
   "source": [
    "### 4)"
   ]
  },
  {
   "cell_type": "code",
   "execution_count": 8,
   "metadata": {
    "collapsed": false
   },
   "outputs": [
    {
     "name": "stdout",
     "output_type": "stream",
     "text": [
      "0.00598825050149\n"
     ]
    }
   ],
   "source": [
    "lassocv = LassoCV(alphas=None, cv=10, max_iter=10000)\n",
    "lassocv.fit(X_train, y_train)\n",
    "print lassocv.alpha_"
   ]
  },
  {
   "cell_type": "code",
   "execution_count": 9,
   "metadata": {
    "collapsed": false
   },
   "outputs": [
    {
     "name": "stdout",
     "output_type": "stream",
     "text": [
      "2977.9684786\n"
     ]
    }
   ],
   "source": [
    "lasso.set_params(alpha=lassocv.alpha_)\n",
    "lasso.fit(X_train, y_train)\n",
    "print mean_squared_error(y_test, lasso.predict(X_test))"
   ]
  },
  {
   "cell_type": "code",
   "execution_count": 10,
   "metadata": {
    "collapsed": false
   },
   "outputs": [
    {
     "name": "stdout",
     "output_type": "stream",
     "text": [
      "0       -8.945181\n",
      "1     -197.429177\n",
      "2      565.596546\n",
      "3      346.757826\n",
      "4     -946.194163\n",
      "5      732.361940\n",
      "6       66.314443\n",
      "7        0.000000\n",
      "8      826.206133\n",
      "9        6.442448\n",
      "10    2520.577652\n",
      "11       0.000000\n",
      "12       0.000000\n",
      "13       0.000000\n",
      "14      -0.000000\n",
      "15       0.000000\n",
      "16       0.000000\n",
      "17    1532.331575\n",
      "18      -0.000000\n",
      "19       0.000000\n",
      "20     682.004315\n",
      "21       0.000000\n",
      "22       0.000000\n",
      "23       0.000000\n",
      "24   -1215.558781\n",
      "25       0.000000\n",
      "26       0.000000\n",
      "27    1076.317504\n",
      "28       0.000000\n",
      "29       0.000000\n",
      "30      -0.000000\n",
      "31       0.000000\n",
      "32       0.000000\n",
      "33    1151.350615\n",
      "34      80.803344\n",
      "35       0.000000\n",
      "36     682.635731\n",
      "37      -0.000000\n",
      "38       0.000000\n",
      "39      -0.000000\n",
      "40       0.000000\n",
      "41       0.000000\n",
      "42      -0.000000\n",
      "43       0.000000\n",
      "44       0.000000\n",
      "45      -0.000000\n",
      "46      -0.000000\n",
      "47     585.751561\n",
      "48       0.000000\n",
      "49      -0.000000\n",
      "50       0.000000\n",
      "51       0.000000\n",
      "52       0.000000\n",
      "53     966.133960\n",
      "54       0.000000\n",
      "dtype: float64\n"
     ]
    }
   ],
   "source": [
    "print pd.Series(lasso.coef_)"
   ]
  },
  {
   "cell_type": "markdown",
   "metadata": {},
   "source": [
    "Some of the coefficients are now reduced to exactly zero."
   ]
  },
  {
   "cell_type": "markdown",
   "metadata": {},
   "source": [
    "# Question 2: Multi-layer Perceptron Regressor (15 points)\n",
    "\n",
    "In this question, you will explore the application of Multi-layer Perceptron (MLP) regression using sklearn package in Python. We will use the Boston house-prices dataset for this problem http://scikit-learn.org/stable/modules/generated/sklearn.datasets.load_boston.html.\n",
    "\n",
    "Following code will load and split the data into training and test set using [train_test_split](http://scikit-learn.org/stable/modules/generated/sklearn.model_selection.train_test_split.html) with **random state 42** and **test_size = 0.33**."
   ]
  },
  {
   "cell_type": "code",
   "execution_count": 11,
   "metadata": {
    "collapsed": false
   },
   "outputs": [],
   "source": [
    "import pandas as pd\n",
    "import numpy as np\n",
    "from sklearn.model_selection import (train_test_split,KFold)\n",
    "from sklearn.metrics import mean_squared_error\n",
    "from sklearn.neural_network import MLPRegressor\n",
    "from sklearn.preprocessing import StandardScaler\n",
    "import matplotlib.pyplot as plt\n",
    "%matplotlib inline\n",
    "\n",
    "from sklearn import datasets\n",
    "data = datasets.load_boston()\n",
    "feature_cols = data.feature_names\n",
    "X = pd.DataFrame(data.data, columns = feature_cols)\n",
    "y = pd.Series(data.target)\n",
    "\n",
    "X_train, X_test, y_train, y_test = train_test_split(X,y,test_size = 0.33, random_state=42)\n"
   ]
  },
  {
   "cell_type": "markdown",
   "metadata": {},
   "source": [
    "One more thing to use in this problem is [StandardScaler](http://scikit-learn.org/stable/modules/generated/sklearn.preprocessing.StandardScaler.html). Instead of fitting a model on original data, use StandardScaler to make each feature centered ([Example](http://scikit-learn.org/stable/auto_examples/applications/plot_prediction_latency.html#sphx-glr-auto-examples-applications-plot-prediction-latency-py)). Whenever you have training and test data, fit a scaler on training data and use this scaler on test data. Here, scale only features (independent variables), not target variable y.\n",
    "\n",
    "Use [sklearn.neural_nework.MLPRegressor](http://scikit-learn.org/stable/modules/generated/sklearn.neural_network.MLPRegressor.html#sklearn.neural_network.MLPRegressor) to do a 5-fold cross validation using sklearn's [KFold](http://scikit-learn.org/stable/modules/generated/sklearn.model_selection.KFold.html#sklearn.model_selection.KFold). The cross validation must be performed on the **training data**. "
   ]
  },
  {
   "cell_type": "markdown",
   "metadata": {},
   "source": [
    "1) Use following parameter settings for MLPRegressor:\n",
    "\n",
    "    activation = 'tanh', solver = 'sgd', learning_rate='constant', random_state=42,\n",
    "    batch_size=40, learning_rate_init = 0.005\n",
    "    \n",
    "Now, consider three different settings for the number of hidden units:\n",
    "    \n",
    "   (a) *hidden_layer_sizes = (2,)* (b) *hidden_layer_sizes = (8,)* (c) *hidden_layer_sizes = (15,)*\n",
    "    \n",
    "   Report the average Root Mean Squared Error (RMSE) value based on your 5-fold cross validation for each model: (a), (b), and (c) (5pts)\n",
    "      \n",
    "2) Now, using the same number of hidden units used in part 1), train MLPRegressor models on whole training data and report RMSE score for both Train and Test set (Again, use StandardScaler). Which model works the best, (a), (b), or (c)? Briefly analyze the result in terms of the number of hidden units. (3pts)\n",
    "\n",
    "3) MLPRegressor has a built-in attribute *loss\\_curve\\_* which returns the loss at each epoch (misleadingly referred to as \"iteration\" in scikit documentation, though they use epoch in the actual code!). For example, if your model is named as *my_model* you can call it as *my\\_model.loss\\_curve\\_* ([example](http://scikit-learn.org/stable/auto_examples/neural_networks/plot_mlp_training_curves.html#sphx-glr-auto-examples-neural-networks-plot-mlp-training-curves-py)). Plot three curves for model (a), (b), and (c) in one figure, where *X-axis* is epoch  number and *Y-axis* is squared root of *loss\\_curve\\_* value. (2pts)\n",
    "\n",
    "4) Use following parameter settings for MLPRegressor:\n",
    "\n",
    "    activation = 'tanh', solver = 'sgd', learning_rate='constant', random_state=42,\n",
    "    batch_size=40, hidden_layer_sizes = (15,)\n",
    "    \n",
    "Now, consider three different settings for the learning rates:\n",
    "    \n",
    "   (i) *learning_rate_init = 0.005* (ii) *learning_rate_init = 0.01* (iii) *learning_rate_init = 1*\n",
    "    \n",
    "   Report the average Root Mean Squared Error (RMSE) value based on your 5-fold cross validation for each model: (i), (ii), and (iii) (5pts)\n",
    "\n"
   ]
  },
  {
   "cell_type": "markdown",
   "metadata": {},
   "source": [
    "## Solution\n",
    "\n",
    "### 1)"
   ]
  },
  {
   "cell_type": "code",
   "execution_count": 12,
   "metadata": {
    "collapsed": false
   },
   "outputs": [
    {
     "name": "stdout",
     "output_type": "stream",
     "text": [
      "<hidden layer: (2,)>\n",
      " Average RMSE (CV): 5.65299177605\n",
      "\n",
      "<hidden layer: (8,)>\n",
      " Average RMSE (CV): 4.45561264758\n",
      "\n",
      "<hidden layer: (15,)>\n",
      " Average RMSE (CV): 3.82804387751\n",
      "\n"
     ]
    }
   ],
   "source": [
    "param_hidden_layers = [(2,),(8,),(15,)]\n",
    "\n",
    "n_folds = 5\n",
    "k_folds = KFold(n_splits=n_folds)\n",
    "lrate = 0.005\n",
    "\n",
    "for param_hidden in param_hidden_layers:\n",
    "    aRMSE = 0\n",
    "    for train_idx, test_idx in k_folds.split(X_train):\n",
    "        regMLP = MLPRegressor(activation = 'tanh',\n",
    "                              solver = 'sgd',\n",
    "                              learning_rate='constant',\n",
    "                              random_state=42,\n",
    "                              batch_size=40,\n",
    "                              learning_rate_init = lrate,\n",
    "                              hidden_layer_sizes = param_hidden)\n",
    "        stdScaler = StandardScaler()\n",
    "        xTrain = stdScaler.fit_transform(X_train.iloc[train_idx,:])\n",
    "        yTrain = y_train.iloc[train_idx]\n",
    "            \n",
    "        regMLP.fit(xTrain,yTrain)\n",
    "        aRMSE += np.sqrt(mean_squared_error(y_train.iloc[test_idx],\n",
    "                                            regMLP.predict(stdScaler.transform(X_train.iloc[test_idx,:]))))/n_folds\n",
    "    \n",
    "    print '<hidden layer: {}>\\n Average RMSE (CV): {}\\n'.format(param_hidden,aRMSE)\n"
   ]
  },
  {
   "cell_type": "markdown",
   "metadata": {},
   "source": [
    "### 2)"
   ]
  },
  {
   "cell_type": "code",
   "execution_count": 13,
   "metadata": {
    "collapsed": false
   },
   "outputs": [
    {
     "name": "stdout",
     "output_type": "stream",
     "text": [
      "<hidden layer: (2,)>\n",
      " RMSE (Train) = 5.02382771248, RMSE (Test) = 4.96115622735\n",
      "\n",
      "<hidden layer: (8,)>\n",
      " RMSE (Train) = 2.55815487937, RMSE (Test) = 4.27238345715\n",
      "\n",
      "<hidden layer: (15,)>\n",
      " RMSE (Train) = 1.96487751008, RMSE (Test) = 3.93351931643\n",
      "\n"
     ]
    }
   ],
   "source": [
    "lrate = 0.005\n",
    "param_hidden_layers = [(2,),(8,),(15,)]\n",
    "\n",
    "RMSE_train_test = {}\n",
    "regMLPs = {}\n",
    "for param_hidden in param_hidden_layers:\n",
    "    regMLP = MLPRegressor(activation = 'tanh',\n",
    "                          solver = 'sgd',\n",
    "                          learning_rate='constant',\n",
    "                          random_state=42,\n",
    "                          batch_size=40,\n",
    "                          learning_rate_init = lrate,\n",
    "                          hidden_layer_sizes = param_hidden)\n",
    "    stdScaler = StandardScaler()\n",
    "    xTrain = stdScaler.fit_transform(X_train)\n",
    "    regMLP.fit(xTrain,y_train)\n",
    "    RMSE_train_test[param_hidden] = [np.sqrt(mean_squared_error(y_train,regMLP.predict(xTrain))),\n",
    "                                     np.sqrt(mean_squared_error(y_test,regMLP.predict(stdScaler.transform(X_test))))]\n",
    "    \n",
    "    regMLPs[param_hidden] = regMLP\n",
    "    \n",
    "    print '<hidden layer: {}>\\n RMSE (Train) = {}, RMSE (Test) = {}\\n'.format(param_hidden,\n",
    "                                                                              RMSE_train_test[param_hidden][0],\n",
    "                                                                              RMSE_train_test[param_hidden][1])"
   ]
  },
  {
   "cell_type": "markdown",
   "metadata": {},
   "source": [
    "MLP regressor with 15 hidden units performed better than the other two models. Increasing number of hidden units is directly related to the complexity of model, and this regression problem was better fit by the more complex model.\n",
    "\n",
    "(Note: Increasing the number of hidden units and hidden layers will make model more complex. However, excessive number of hidden units and hidden layers can also hurt your model by leading it to overfit.)"
   ]
  },
  {
   "cell_type": "markdown",
   "metadata": {},
   "source": [
    "## 3)"
   ]
  },
  {
   "cell_type": "code",
   "execution_count": 14,
   "metadata": {
    "collapsed": false
   },
   "outputs": [
    {
     "data": {
      "text/plain": [
       "<matplotlib.text.Text at 0x1181a64d0>"
      ]
     },
     "execution_count": 14,
     "metadata": {},
     "output_type": "execute_result"
    },
    {
     "data": {
      "image/png": "[encoded data removed]",
      "text/plain": [
       "<matplotlib.figure.Figure at 0x116c7c5d0>"
      ]
     },
     "metadata": {},
     "output_type": "display_data"
    }
   ],
   "source": [
    "for param_hidden in param_hidden_layers:\n",
    "    regMLP = regMLPs[param_hidden]\n",
    "    plt.plot(np.sqrt(regMLP.loss_curve_), label = str(param_hidden))\n",
    "\n",
    "plt.legend()\n",
    "plt.ylabel('RMSE')\n",
    "plt.xlabel('epoch number')"
   ]
  },
  {
   "cell_type": "markdown",
   "metadata": {},
   "source": [
    "## 4)"
   ]
  },
  {
   "cell_type": "code",
   "execution_count": 15,
   "metadata": {
    "collapsed": false
   },
   "outputs": [
    {
     "name": "stdout",
     "output_type": "stream",
     "text": [
      "<learning rate: 0.005>\n",
      " Average RMSE (CV): 3.82804387751\n",
      "\n",
      "<learning rate: 0.01>\n",
      " Average RMSE (CV): 4.36444577137\n",
      "\n",
      "<learning rate: 1>\n",
      " Average RMSE (CV): 3.91685403205e+31\n",
      "\n"
     ]
    }
   ],
   "source": [
    "X_train, X_test, y_train, y_test = train_test_split(X,y,test_size = 0.33, random_state=42)\n",
    "\n",
    "param_hidden_layers = (15,)\n",
    "\n",
    "n_folds = 5\n",
    "k_folds = KFold(n_splits=n_folds)\n",
    "lrate = [0.005, 0.01, 1]\n",
    "\n",
    "for lrate_ in lrate:\n",
    "    aRMSE = 0\n",
    "    for train_idx, test_idx in k_folds.split(X_train):\n",
    "        regMLP = MLPRegressor(activation = 'tanh',\n",
    "                              solver = 'sgd',\n",
    "                              learning_rate='constant',\n",
    "                              random_state=42,\n",
    "                              batch_size=40,\n",
    "                              learning_rate_init = lrate_,\n",
    "                              hidden_layer_sizes = param_hidden)\n",
    "        stdScaler = StandardScaler()\n",
    "        xTrain = stdScaler.fit_transform(X_train.iloc[train_idx,:])\n",
    "        yTrain = y_train.iloc[train_idx]\n",
    "            \n",
    "        regMLP.fit(xTrain,yTrain)\n",
    "        aRMSE += np.sqrt(mean_squared_error(y_train.iloc[test_idx],\n",
    "                                            regMLP.predict(stdScaler.transform(X_train.iloc[test_idx,:]))))/n_folds\n",
    "    \n",
    "    print '<learning rate: {}>\\n Average RMSE (CV): {}\\n'.format(lrate_,aRMSE)\n"
   ]
  },
  {
   "cell_type": "markdown",
   "metadata": {},
   "source": [
    "# Question 3 - Stochastic Gradient Descent (10pts)\n",
    "\n",
    "1. Using stochastic gradient descent, derive the coefficent updates for all 4 coefficients of the model: $$ y = w_0 + w_1*x_1 + w_2*x_1x_2 + w_3*x_2 $$ Hint: start from the cost function (Assume sum of squared error). If you write the math by hand, submit that as a separate file and make a reference to it in your notebook, or include the image in your notebook. (3pts)\n",
    "2. Write Python code for an SGD solution to the non-linear model $$ y = w_0 + w_1*x_1 + w_2*x_1x_2 + w_3*x_2$$ Try to format similarly to scikit-learn's models. There should be a _fit_ function that takes parameters X, y, learning rate, and number of iterations, and a _predict_ function that takes an X value (optionally, an array of values). Use your new gradient descent regression to predict the data given in 'samples.csv', for 10 epochs, using learning rates: [.0001, .0003, .001] . Plot MSE and the $w$ parameters as a function of epoch count. (7pts)"
   ]
  },
  {
   "cell_type": "markdown",
   "metadata": {},
   "source": [
    "## Solution \n",
    "\n",
    "### 1)\n",
    "\n",
    "The loss function for a single point $x_i, y_i$ is:\n",
    "\\begin{equation}\n",
    "E_i(w) = \\left( w_0 + x_{i1} w_1 + x_{i1}x_{i2} w_2 + x_{i2} w_3 - y \\right)^2\n",
    "\\end{equation}\n",
    "\n",
    "Denote:\n",
    "\\begin{equation}\n",
    "e_i(w) = w_0 + x_{i1} w_1 + x_{i1}x_{i2} w_2 + x_{i2} w_3 - y\n",
    "\\end{equation}\n",
    "\n",
    "Then:\n",
    "\\begin{align}\n",
    "E_i(w) = e_i(w)^2 \\\\\n",
    "\\frac{\\partial E_i}{\\partial w_0} = 2 e_i(w) \\\\\n",
    "\\frac{\\partial E_i}{\\partial w_1} = 2 e_i(w) x_{i1} \\\\\n",
    "\\frac{\\partial E_i}{\\partial w_2} = 2 e_i(w) x_{i1}x_{i2} \\\\\n",
    "\\frac{\\partial E_i}{\\partial w_3} = 2 e_i(w) x_{i2}\n",
    "\\end{align}\n",
    "\n",
    "The update for each element of $w$ is:\n",
    "\\begin{equation}\n",
    "w_j^{\\tau+1} = w_j^{\\tau} - \\eta \\frac{\\partial E_i}{\\partial w_j}\n",
    "\\end{equation}"
   ]
  },
  {
   "cell_type": "markdown",
   "metadata": {},
   "source": [
    "## 2)"
   ]
  },
  {
   "cell_type": "code",
   "execution_count": 16,
   "metadata": {
    "collapsed": true
   },
   "outputs": [],
   "source": [
    "import random\n",
    "import numpy as np\n",
    "import matplotlib.pyplot as plt\n",
    "import pandas as pd\n",
    "\n",
    "class LinearRegression_SGD:\n",
    "    \n",
    "    def __init__(self, learning_rate, n_epoch):\n",
    "        self.learning_rate = learning_rate\n",
    "        self.n_epoch = n_epoch\n",
    "        \n",
    "    def fit(self, X, y, logplot = False):\n",
    "        mse = []\n",
    "        coefs = []\n",
    "        self.coef = np.zeros(X.shape[1] + 2)\n",
    "        X = np.c_[np.ones(X.shape[0]), np.array(X['x1']), np.array(np.array(X['x1']*X['x2'])), np.array(X['x2'])]\n",
    "        for epoch in range(self.n_epoch):\n",
    "            for i in range(X.shape[0]):\n",
    "                X_i = X[i,:]\n",
    "                e_i = y[i] - self.linearPredict(X_i)\n",
    "                self.coef = self.coef + self.learning_rate * e_i * X_i\n",
    "            if logplot:\n",
    "                coefs.append(np.log(np.abs( self.coef )))\n",
    "            else:\n",
    "                coefs.append(self.coef)\n",
    "            residuals = y - self.linearPredict(X)\n",
    "            if logplot:\n",
    "                mse.append(np.log( np.mean(residuals**2) ))\n",
    "            else:\n",
    "                mse.append(np.mean(residuals**2))\n",
    "        plt.plot(range(self.n_epoch),mse)\n",
    "        plt.xlabel('epoch')\n",
    "        plt.ylabel('MSE')\n",
    "        if logplot:\n",
    "            plt.ylabel('log of MSE')\n",
    "        plt.figure()\n",
    "        coefs = np.array(coefs)\n",
    "        plt.plot(range(self.n_epoch),coefs[:,0],label='w0')\n",
    "        plt.plot(range(self.n_epoch),coefs[:,1],label='w1')\n",
    "        plt.plot(range(self.n_epoch),coefs[:,2],label='w2')\n",
    "        plt.plot(range(self.n_epoch),coefs[:,3],label='w3')\n",
    "        plt.legend()\n",
    "        plt.xlabel('epoch')\n",
    "        plt.ylabel('parameter value')\n",
    "        if logplot:\n",
    "            plt.ylabel('log of parameter magnitude')\n",
    "\n",
    "    def predict(self, X):\n",
    "        X = np.c_[np.ones(X.shape[0]), np.array(X['x1']), np.array(np.array(X['x1']*X['x2'])), np.array(X['x2'])]\n",
    "        return self.linearPredict(X)\n",
    "        \n",
    "    def linearPredict(self, X):\n",
    "        return X.dot(self.coef)"
   ]
  },
  {
   "cell_type": "code",
   "execution_count": 17,
   "metadata": {
    "collapsed": false
   },
   "outputs": [
    {
     "data": {
      "image/png": "[encoded data removed]",
      "text/plain": [
       "<matplotlib.figure.Figure at 0x1181ce750>"
      ]
     },
     "metadata": {},
     "output_type": "display_data"
    },
    {
     "data": {
      "image/png": "[encoded data removed]",
      "text/plain": [
       "<matplotlib.figure.Figure at 0x116c48e90>"
      ]
     },
     "metadata": {},
     "output_type": "display_data"
    }
   ],
   "source": [
    "data = pd.read_csv('samples.csv',index_col = 0)\n",
    "X = data[['x1','x2']]\n",
    "y = data['y']\n",
    "plt.figure()\n",
    "sgd = LinearRegression_SGD(.0001,10)\n",
    "sgd.fit(X,y)\n"
   ]
  },
  {
   "cell_type": "code",
   "execution_count": 24,
   "metadata": {
    "collapsed": false
   },
   "outputs": [
    {
     "data": {
      "image/png": "[encoded data removed]",
      "text/plain": [
       "<matplotlib.figure.Figure at 0x119472310>"
      ]
     },
     "metadata": {},
     "output_type": "display_data"
    },
    {
     "data": {
      "image/png": "[encoded data removed]",
      "text/plain": [
       "<matplotlib.figure.Figure at 0x119307e90>"
      ]
     },
     "metadata": {},
     "output_type": "display_data"
    }
   ],
   "source": [
    "plt.figure()\n",
    "sgd = LinearRegression_SGD(.0003,10)\n",
    "sgd.fit(X,y)\n"
   ]
  },
  {
   "cell_type": "code",
   "execution_count": 19,
   "metadata": {
    "collapsed": false
   },
   "outputs": [
    {
     "data": {
      "image/png": "[encoded data removed]",
      "text/plain": [
       "<matplotlib.figure.Figure at 0x1187671d0>"
      ]
     },
     "metadata": {},
     "output_type": "display_data"
    },
    {
     "data": {
      "image/png": "[encoded data removed]",
      "text/plain": [
       "<matplotlib.figure.Figure at 0x11885cbd0>"
      ]
     },
     "metadata": {},
     "output_type": "display_data"
    }
   ],
   "source": [
    "plt.figure()\n",
    "sgd = LinearRegression_SGD(.001,10)\n",
    "sgd.fit(X,y)"
   ]
  },
  {
   "cell_type": "markdown",
   "metadata": {},
   "source": [
    "For the learning rate of .0003, most of the parameters are very close to their final values after a single epoch. The learning rate of .0001 also reaches these values after more epochs.\n",
    "The learning rate of .001 causes the descent to continually overreach, resulting in exponential growth of both the parameters and the error. Because of its exponential nature, this is better visualized with a logarithmic plot (not required for HW)."
   ]
  },
  {
   "cell_type": "code",
   "execution_count": 20,
   "metadata": {
    "collapsed": false
   },
   "outputs": [
    {
     "data": {
      "image/png": "[encoded data removed]",
      "text/plain": [
       "<matplotlib.figure.Figure at 0x1180e7d50>"
      ]
     },
     "metadata": {},
     "output_type": "display_data"
    },
    {
     "data": {
      "image/png": "[encoded data removed]",
      "text/plain": [
       "<matplotlib.figure.Figure at 0x118772550>"
      ]
     },
     "metadata": {},
     "output_type": "display_data"
    }
   ],
   "source": [
    "sgd = LinearRegression_SGD(0.001,10)\n",
    "sgd.fit(X,y, logplot = True)"
   ]
  },
  {
   "cell_type": "markdown",
   "metadata": {},
   "source": [
    "# Question 4 - Linear Regression: Least Squares and MLE (5pts)\n",
    "Consider linear regression with a single independent variable. Thus, predicted values are given by:  \n",
    "$$y  = w_0  + w_1 x$$\n",
    "\n",
    "Mathematically show that if the assumptions behind linear regression hold (slide 3 of the MLR slides), then the values of $w_0$ and $w_1$ obtained by minimizing MSE are indeed the  maximum likelihood solution of the corresponding underlying probability model relating the target variable to the input variable."
   ]
  },
  {
   "cell_type": "markdown",
   "metadata": {},
   "source": [
    "# Solution\n",
    "### 1) Minimizing MSE\n",
    "\\begin{align}\n",
    "L &= \\sum_{i=1}^{n}{(y_i-(w_0+w_1x_i))^2}    \\\\\n",
    "\\frac{dL}{dw_0} &= -\\sum_{i=1}^{n}2(y_i - (w_0 + w_1x_i)) = 0\\\\\n",
    "\\frac{dL}{dw_1} &= -\\sum_{i=1}^{n}2(y_i - (w_0 + w_1x_i))x_i = 0\n",
    "\\end{align}\n",
    "\n",
    "Denote: \n",
    "\\begin{align}\n",
    "\\frac{1}{n}\\sum_{i=1}^{n}{x_i} &= \\bar{X}, \\frac{1}{n}\\sum_{i=1}^{n}{y_i} = \\bar{Y}\\\\\n",
    "\\frac{1}{n}\\sum_{i=1}^{n}{x_i^2} &= \\bar{X^2}, \\frac{1}{n}\\sum_{i=1}^{n}{x_iy_i} = \\bar{XY}\n",
    "\\end{align}\n",
    "\n",
    "Then the critical points can be rewritten as,\n",
    "\\begin{align}\n",
    "w_0 + w_1\\bar{X} &= \\bar{Y}\\\\\n",
    "w_0\\bar{X} + w_1\\bar{X^2} &= \\bar{XY}\n",
    "\\end{align}\n",
    "\n",
    "Solving for $w_1$ and $w_0$ yields,\n",
    "\\begin{align}\n",
    "w_1 &= \\frac{\\bar{XY}-\\bar{X}\\bar{Y}}{\\bar{X^2}-\\bar{X}^2}\\\\\n",
    "w_0 &= \\bar{Y} - w_1\\bar{X}\n",
    "\\end{align}\n",
    "\n",
    "### 2) Maximum likelihood solution\n",
    "From Slide 3 of the MLR slides,\n",
    "$$y|x_i \\sim N(w_0+w_1x_i, \\sigma^2) = \\frac{1}{\\sqrt{2\\pi}\\sigma}e^{-\\frac{(y-(w_0+w_1x_i))^2}{2\\sigma^2}} $$\n",
    "where $\\sigma^2$ is the variance of the noise.\n",
    "\n",
    "The likelihood of the sequence $y_1, y_2, ..., y_n$ is\n",
    "$$ l = (\\frac{1}{\\sqrt{2\\pi}\\sigma})^ne^{-\\frac{1}{2\\sigma^2}\\sum_{i=1}^{n}(y-(w_0+w_1x_i))^2} $$\n",
    "\n",
    "Maximizing the likelihood $l$ can be achieved by minimizing\n",
    "$$\\sum_{i=1}^{n}(y-(w_0+w_1x_i))^2$$\n",
    "which is identicial to minimizing MSE."
   ]
  },
  {
   "cell_type": "markdown",
   "metadata": {},
   "source": [
    "# Question 5 - Collinearity in Multiple Linear Regression (5pts)\n",
    "What do you understand by the collinearity problem that can be encountered in MLR? Suggest one way of alleviating this problem."
   ]
  },
  {
   "cell_type": "markdown",
   "metadata": {},
   "source": [
    "## Solution"
   ]
  },
  {
   "cell_type": "markdown",
   "metadata": {},
   "source": [
    "Multicollinearity is a statistical phenomenon in which two or more predictor variables in a multiple regression model are highly correlated. In this situation the coefficient estimates of the multiple regression will have high standard errors (uncertainty in the values). In particular, they may change erratically in response to small changes in the model or the data.  Regularization using ridge will keep the coefficient magnitudes from blowing up.\n",
    "\n",
    "\n"
   ]
  },
  {
   "cell_type": "markdown",
   "metadata": {},
   "source": [
    "# Question 6 - Variable Selection Property of LASSO (5pts)\n",
    "\n",
    "Explain in your own words (max 2 paras) what the diamond, circular and elliptical shapes in Fig 6.7 of JW (page 222) mean, and how this figure tries to explain why lasso tends to drive the values of some parameters to zero more aggressively as compared to ridge regression."
   ]
  },
  {
   "cell_type": "markdown",
   "metadata": {},
   "source": [
    "## Solution"
   ]
  },
  {
   "cell_type": "markdown",
   "metadata": {},
   "source": [
    "The ellipses that are centered around $\\hat{\\beta}$ represent regions of constant Ressidual Sum of Squares (RSS), where the least squares solution is marked as $\\hat{\\beta}$.  As the ellipses expand away from the least squares coefficient estimates, the RSS increases.  The blue diamond and circle represent constraints of the lasso and ridge regression, respectively. \n",
    "\n",
    "The lasso and ridge regression coefficient estimates are given by the first point at which an ellipse contacts the constraint region. Since ridge regression has a circular constraint with no sharp points, this intersection will not generally occur on an axis, and so the ridge regression coefficient estimates will be exclusively non-zero. However, the lasso constraint has corners at each of the axes, and so the ellipse will often intersect the constraint region at an axis. When this occurs, one of the coefficients will equal zero. In higher dimensions, many of the coefficient estimates may equal zero simultaneously."
   ]
  }
 ],
 "metadata": {
  "anaconda-cloud": {},
  "kernelspec": {
   "display_name": "Python 2",
   "language": "python",
   "name": "python2"
  },
  "language_info": {
   "codemirror_mode": {
    "name": "ipython",
    "version": 2
   },
   "file_extension": ".py",
   "mimetype": "text/x-python",
   "name": "python",
   "nbconvert_exporter": "python",
   "pygments_lexer": "ipython2",
   "version": "2.7.10"
  }
 },
 "nbformat": 4,
 "nbformat_minor": 0
}
