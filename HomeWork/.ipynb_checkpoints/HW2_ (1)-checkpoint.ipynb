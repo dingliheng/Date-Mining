{
 "cells": [
  {
   "cell_type": "markdown",
   "metadata": {},
   "source": [
    "# <p style=\"text-align: center;\">EE 380L: Data Mining</p>\n",
    "# <p style=\"text-align: center;\">Assignment 2</p>\n",
    "## <p style=\"text-align: center;\">Total points: 55 </p>\n",
    "## <p style=\"text-align: center;\">Due: Tuesday, Feb. 14, submitted via Canvas by 11:59pm</p>\n",
    "\n",
    "\n",
    "Your homework should be written in a **Jupyter notebook**. You may work in teams of two if you wish. Only one student per team needs to submit the assignment on Canvas. But be sure to include name and UTID for both students.  Also, please make sure your code runs and the graphics (and anything else) are displayed in your notebook before submitting."
   ]
  },
  {
   "cell_type": "markdown",
   "metadata": {},
   "source": [
    "# Question 1: Ridge and Lasso Regression (15 points)\n",
    "Use the following codes to import the diabetes dataset."
   ]
  },
  {
   "cell_type": "code",
   "execution_count": 2,
   "metadata": {
    "collapsed": true
   },
   "outputs": [],
   "source": [
    "from sklearn import datasets\n",
    "diabetes = datasets.load_diabetes()\n",
    "X = diabetes.data\n",
    "y = diabetes.target"
   ]
  },
  {
   "cell_type": "code",
   "execution_count": 3,
   "metadata": {
    "collapsed": false
   },
   "outputs": [
    {
     "data": {
      "text/plain": [
       "(442, 10)"
      ]
     },
     "execution_count": 3,
     "metadata": {},
     "output_type": "execute_result"
    }
   ],
   "source": [
    "X.shape"
   ]
  },
  {
   "cell_type": "markdown",
   "metadata": {},
   "source": [
    "The dataset consists of ten features and one target variable.  More information is found at http://scikit-learn.org/stable/datasets/index.html#diabetes-dataset\n",
    "\n",
    "After importing the datasets, use the following code to add additional interaction variables to the features matrix.  You should have 55 variables (including 45 interaction variables) and one target variable. Note that this code adds one term for every pair of variables; in practice one may introduce only a few select interaction terms based on domain knowledge or experimentation."
   ]
  },
  {
   "cell_type": "code",
   "execution_count": 4,
   "metadata": {
    "collapsed": false
   },
   "outputs": [],
   "source": [
    "from sklearn.preprocessing import PolynomialFeatures\n",
    "X = PolynomialFeatures(2, interaction_only=True, include_bias=False).fit_transform(X)"
   ]
  },
  {
   "cell_type": "markdown",
   "metadata": {},
   "source": [
    "In this question, you will explore the application of Lasso and Ridge regression using sklearn package in Python. The following code will split the data into training and test set using [train_test_split](http://scikit-learn.org/stable/modules/generated/sklearn.model_selection.train_test_split.html) with **random state 20** and **test_size = 0.33**.  Note: lambda is called alpha in sklearn."
   ]
  },
  {
   "cell_type": "code",
   "execution_count": 5,
   "metadata": {
    "collapsed": false
   },
   "outputs": [
    {
     "data": {
      "text/plain": [
       "(442, 55)"
      ]
     },
     "execution_count": 5,
     "metadata": {},
     "output_type": "execute_result"
    }
   ],
   "source": [
    "X.shape"
   ]
  },
  {
   "cell_type": "code",
   "execution_count": 6,
   "metadata": {
    "collapsed": false
   },
   "outputs": [
    {
     "name": "stderr",
     "output_type": "stream",
     "text": [
      "/Users/apple/anaconda/lib/python3.5/site-packages/sklearn/cross_validation.py:44: DeprecationWarning: This module was deprecated in version 0.18 in favor of the model_selection module into which all the refactored classes and functions are moved. Also note that the interface of the new CV iterators are different from that of this module. This module will be removed in 0.20.\n",
      "  \"This module will be removed in 0.20.\", DeprecationWarning)\n"
     ]
    }
   ],
   "source": [
    "from sklearn.cross_validation import train_test_split\n",
    "X_train, X_test, y_train, y_test = train_test_split(X,y,test_size = 0.33, random_state=20)"
   ]
  },
  {
   "cell_type": "markdown",
   "metadata": {},
   "source": [
    "1) Use sklearn.linear_model.Lasso and sklearn.linear_model.Ridge classes to do a [5-fold cross validation](http://scikit-learn.org/stable/auto_examples/exercises/plot_cv_diabetes.html#example-exercises-plot-cv-diabetes-py) using sklearn's [KFold](http://scikit-learn.org/stable/modules/generated/sklearn.cross_validation.KFold.html). For the sweep of the regularization parameter, we will look at a grid of values ranging from $\\lambda = 10^{10}$ to $\\lambda = 10^{-2}$. In Python, you can consider this range of values as follows:\n",
    "\n",
    "      import numpy as np\n",
    "\n",
    "      alphas =  10**np.linspace(10,-2,100)*0.5\n",
    "\n",
    "  Report the best chosen $\\lambda$ based on cross validation. The cross validation should happen on your training data using  average MSE as the scoring metric. (5pts)\n",
    "\n",
    "2) Run ridge and lasso for all of the alphas specified above (on training data), and plot the coefficients learned for each of them - there should be one plot each for lasso and ridge, so a total of two plots; the plots for different features for a method should be on the same plot (e.g. Fig 6.6 of JW). What do you qualitatively observe when value of the regularization parameter is changed? (4pts)\n",
    "\n",
    "3) Run least squares regression, ridge, and lasso on the training data. For ridge and lasso, use only the best regularization parameter. Report the prediction error (MSE) on the test data for each. (3pts)\n",
    "\n",
    "4) Run lasso again with cross validation using [sklearn.linear_model.LassoCV](http://scikit-learn.org/stable/modules/generated/sklearn.linear_model.LassoCV.html). Set the cross validation parameters as follows:\n",
    "\n",
    "    LassoCV(alphas=None, cv=10, max_iter=10000)\n",
    "\n",
    "Report the best $\\lambda$ based on cross validation. Run lasso on the training data using the best $\\lambda$ and report the coefficeints for 55 variables. What do you observe from these coefficients? (3pts)"
   ]
  },
  {
   "cell_type": "markdown",
   "metadata": {},
   "source": [
    "### 1.1）"
   ]
  },
  {
   "cell_type": "code",
   "execution_count": 117,
   "metadata": {
    "collapsed": false
   },
   "outputs": [
    {
     "data": {
      "text/plain": [
       "<matplotlib.text.Text at 0x113b5b6d8>"
      ]
     },
     "execution_count": 117,
     "metadata": {},
     "output_type": "execute_result"
    }
   ],
   "source": [
    "from sklearn.linear_model import Lasso\n",
    "from sklearn.linear_model import Ridge\n",
    "from sklearn.model_selection import KFold\n",
    "from sklearn.metrics import mean_squared_error\n",
    "import matplotlib.pyplot as plt\n",
    "from matplotlib.pyplot import figure, show\n",
    "import numpy as np\n",
    "alphas =  10**np.linspace(10,-2,100)*0.5\n",
    "lasso = Lasso(random_state=0)\n",
    "ridge = Ridge(random_state=0)\n",
    "n_folds = 5\n",
    "scores_lasso = list()  \n",
    "scores_ridge = list()\n",
    "k_fold = KFold(5)\n",
    "\n",
    "fig = figure()\n",
    "ax_lasso = fig.add_subplot(121)\n",
    "ax_ridge = fig.add_subplot(122)\n",
    "\n",
    "ax_lasso.set_ylabel('Standard Coefficients')\n",
    "ax_lasso.set_xlabel('lamda')\n",
    "ax_ridge.set_xlabel('lamda')"
   ]
  },
  {
   "cell_type": "code",
   "execution_count": 120,
   "metadata": {
    "collapsed": false
   },
   "outputs": [],
   "source": [
    "for alpha in alphas:\n",
    "    lasso.alpha = alpha\n",
    "    ridge.alpha = alpha\n",
    "    MSE_lasso = 0\n",
    "    MSE_ridge = 0\n",
    "    for k, (train_index,test_index) in enumerate(k_fold.split(X_train,y_train)):\n",
    "        input_train, input_test = X_train[train_index],X_train[test_index]\n",
    "        output_train, output_test = y_train[train_index],y_train[test_index] \n",
    "        lasso.fit(input_train,output_train)\n",
    "        ridge.fit(input_train,output_train)\n",
    "        MSE_lasso = MSE_lasso + mean_squared_error(lasso.predict(input_test),output_test)\n",
    "        MSE_ridge = MSE_ridge + mean_squared_error(ridge.predict(input_test),output_test)\n",
    "    scores_lasso.append(MSE_lasso/n_folds)\n",
    "    scores_ridge.append(MSE_ridge/n_folds)"
   ]
  },
  {
   "cell_type": "code",
   "execution_count": 90,
   "metadata": {
    "collapsed": false
   },
   "outputs": [],
   "source": [
    "lamda_lasso = alphas[scores_lasso.index(min(scores_lasso))]\n",
    "lamda_ridge = alphas[scores_ridge.index(min(scores_ridge))]"
   ]
  },
  {
   "cell_type": "code",
   "execution_count": 91,
   "metadata": {
    "collapsed": false
   },
   "outputs": [
    {
     "name": "stdout",
     "output_type": "stream",
     "text": [
      "best lamda for lasso model: 0.00660970574233\n",
      "best lamda for ridge model: 0.005\n"
     ]
    }
   ],
   "source": [
    "print(\"best lamda for lasso model:\",lamda_lasso)\n",
    "print(\"best lamda for ridge model:\",lamda_ridge)"
   ]
  },
  {
   "cell_type": "markdown",
   "metadata": {},
   "source": [
    "### 1.2）"
   ]
  },
  {
   "cell_type": "code",
   "execution_count": 102,
   "metadata": {
    "collapsed": true
   },
   "outputs": [],
   "source": [
    "coefs_lasso = []\n",
    "coefs_ridge = []\n",
    "\n",
    "for alpha in alphas:\n",
    "    lasso.alpha = alpha\n",
    "    ridge.alpha = alpha\n",
    "    lasso.fit(X_train,y_train)\n",
    "    ridge.fit(X_train,y_train)\n",
    "    coefs_lasso.append(lasso.coef_)\n",
    "    coefs_ridge.append(ridge.coef_)"
   ]
  },
  {
   "cell_type": "code",
   "execution_count": 109,
   "metadata": {
    "collapsed": false
   },
   "outputs": [
    {
     "data": {
      "image/png": "[encoded data removed]",
      "text/plain": [
       "<matplotlib.figure.Figure at 0x1135e3160>"
      ]
     },
     "metadata": {},
     "output_type": "display_data"
    }
   ],
   "source": [
    "ax = plt.gca()\n",
    "\n",
    "ax.plot(alphas, coefs_ridge)\n",
    "ax.set_xscale('log')\n",
    "ax.set_xlim(ax.get_xlim()[::-1])  # reverse axis\n",
    "plt.xlabel('alpha')\n",
    "plt.ylabel('weights')\n",
    "plt.title('Ridge coefficients as a function of the regularization')\n",
    "plt.axis('tight')\n",
    "plt.show()"
   ]
  },
  {
   "cell_type": "code",
   "execution_count": 110,
   "metadata": {
    "collapsed": false
   },
   "outputs": [
    {
     "data": {
      "image/png": "[encoded data removed]",
      "text/plain": [
       "<matplotlib.figure.Figure at 0x113694cc0>"
      ]
     },
     "metadata": {},
     "output_type": "display_data"
    }
   ],
   "source": [
    "ax = plt.gca()\n",
    "\n",
    "ax.plot(alphas, coefs_lasso)\n",
    "ax.set_xscale('log')\n",
    "ax.set_xlim(ax.get_xlim()[::-1])  # reverse axis\n",
    "plt.xlabel('alpha')\n",
    "plt.ylabel('weights')\n",
    "plt.title('Lasso coefficients as a function of the regularization')\n",
    "plt.axis('tight')\n",
    "plt.show()"
   ]
  },
  {
   "cell_type": "markdown",
   "metadata": {},
   "source": [
    "When alpha = 0, the two models simply gives the least squares fit, and when alpha becomes sufficiently large, the two models give the null model in which all coefficient estimates equal zero. Between these two extremes, the two models are quite different from each other.  In the case of the lasso, the penalty has the effect\n",
    "of forcing some of the coefficient estimates to be exactly equal to zero when\n",
    "the tuning parameter alpha is sufficiently large. Hence, much like best subset selection,\n",
    "the lasso performs variable selection. In contrast, the ridge model always include all coeffcients until all coefficients change to 0 at the same time with the increas of alpha.As a result, models generated from the lasso are generally much easier to interpret than those produced by ridge regression."
   ]
  },
  {
   "cell_type": "markdown",
   "metadata": {},
   "source": [
    "### 1.3）"
   ]
  },
  {
   "cell_type": "code",
   "execution_count": 113,
   "metadata": {
    "collapsed": false
   },
   "outputs": [
    {
     "name": "stdout",
     "output_type": "stream",
     "text": [
      "MSE for least square model: 3377.94455926\n",
      "MSE for lasso model: 2972.25999624\n",
      "MSE for ridge model: 2959.81880664\n"
     ]
    }
   ],
   "source": [
    "from sklearn.linear_model import LinearRegression\n",
    "\n",
    "least_squares = LinearRegression()\n",
    "\n",
    "lasso.alpha = lamda_lasso\n",
    "ridge.alpha = lamda_ridge\n",
    "\n",
    "least_squares.fit(X_train, y_train)\n",
    "lasso.fit(X_train, y_train)\n",
    "ridge.fit(X_train, y_train)\n",
    "\n",
    "MSE_least_square = mean_squared_error(least_squares.predict(X_test),y_test)\n",
    "MSE_lasso = mean_squared_error(lasso.predict(X_test),y_test)\n",
    "MSE_ridge = mean_squared_error(ridge.predict(X_test),y_test)\n",
    "\n",
    "print(\"MSE for least square model:\", MSE_least_square)\n",
    "print(\"MSE for lasso model:\", MSE_lasso)\n",
    "print(\"MSE for ridge model:\", MSE_ridge)"
   ]
  },
  {
   "cell_type": "markdown",
   "metadata": {},
   "source": [
    "### 1.4）"
   ]
  },
  {
   "cell_type": "code",
   "execution_count": 115,
   "metadata": {
    "collapsed": false
   },
   "outputs": [
    {
     "name": "stdout",
     "output_type": "stream",
     "text": [
      "lasso best lamda: 0.00598825050149\n",
      "lasso coefficients: [   -8.94518066  -197.42917697   565.59654567   346.75782597  -946.19416293\n",
      "   732.36194039    66.31444283     0.           826.20613334     6.44244751\n",
      "  2520.57765202     0.             0.             0.            -0.             0.\n",
      "     0.          1532.33157546    -0.             0.           682.00431451\n",
      "     0.             0.             0.         -1215.55878077     0.             0.\n",
      "  1076.31750372     0.             0.            -0.             0.             0.\n",
      "  1151.3506146     80.80334424     0.           682.63573111    -0.             0.\n",
      "    -0.             0.             0.            -0.             0.             0.\n",
      "    -0.            -0.           585.75156096     0.            -0.             0.\n",
      "     0.             0.           966.1339596      0.        ]\n"
     ]
    }
   ],
   "source": [
    "from sklearn.linear_model import LassoCV\n",
    "lasso_cv = LassoCV(alphas=None, cv=10, max_iter=10000)\n",
    "\n",
    "lasso_cv.fit(X_train, y_train)\n",
    "print(\"lasso best lamda:\", lasso_cv.alpha_)\n",
    "print(\"lasso coefficients:\", lasso_cv.coef_)"
   ]
  },
  {
   "cell_type": "markdown",
   "metadata": {},
   "source": [
    "From the matrix above, we get a sparse model since many coefficients equal to zero. Hence, depending on the value of lamda, the lasso can produce a model involving any number of variables, which proves that the lasso can perform variable selection."
   ]
  },
  {
   "cell_type": "markdown",
   "metadata": {},
   "source": [
    "# Question 2: Multi-layer Perceptron Regressor (15 points)\n",
    "\n",
    "In this question, you will explore the application of Multi-layer Perceptron (MLP) regression using sklearn package in Python. We will use the Boston house-prices dataset for this problem http://scikit-learn.org/stable/modules/generated/sklearn.datasets.load_boston.html.\n",
    "\n",
    "Following code will load and split the data into training and test set using [train_test_split](http://scikit-learn.org/stable/modules/generated/sklearn.model_selection.train_test_split.html) with **random state 42** and **test_size = 0.33**."
   ]
  },
  {
   "cell_type": "code",
   "execution_count": 129,
   "metadata": {
    "collapsed": true
   },
   "outputs": [],
   "source": [
    "import pandas as pd\n",
    "import numpy as np\n",
    "from sklearn.model_selection import (train_test_split,KFold)\n",
    "from sklearn.metrics import mean_squared_error\n",
    "from sklearn.neural_network import MLPRegressor\n",
    "from sklearn.preprocessing import StandardScaler\n",
    "import matplotlib.pyplot as plt\n",
    "%matplotlib inline\n",
    "\n",
    "from sklearn import datasets\n",
    "data = datasets.load_boston()\n",
    "feature_cols = data.feature_names\n",
    "X = pd.DataFrame(data.data, columns = feature_cols)\n",
    "y = pd.Series(data.target)\n",
    "\n",
    "X_train, X_test, y_train, y_test = train_test_split(X,y,test_size = 0.33, random_state=42)"
   ]
  },
  {
   "cell_type": "markdown",
   "metadata": {},
   "source": [
    "One more thing to use in this problem is [StandardScaler](http://scikit-learn.org/stable/modules/generated/sklearn.preprocessing.StandardScaler.html). Instead of fitting a model on original data, use StandardScaler to make each feature centered ([Example](http://scikit-learn.org/stable/auto_examples/applications/plot_prediction_latency.html#sphx-glr-auto-examples-applications-plot-prediction-latency-py)). Whenever you have training and test data, fit a scaler on training data and use this scaler on test data. Here, scale only features (independent variables), not target variable y.\n",
    "\n",
    "Use [sklearn.neural_nework.MLPRegressor](http://scikit-learn.org/stable/modules/generated/sklearn.neural_network.MLPRegressor.html#sklearn.neural_network.MLPRegressor) to do a 5-fold cross validation using sklearn's [KFold](http://scikit-learn.org/stable/modules/generated/sklearn.model_selection.KFold.html#sklearn.model_selection.KFold). The cross validation must be performed on the **training data**. "
   ]
  },
  {
   "cell_type": "markdown",
   "metadata": {},
   "source": [
    "1) Use following parameter settings for MLPRegressor:\n",
    "\n",
    "    activation = 'tanh', solver = 'sgd', learning_rate='constant', random_state=42,\n",
    "    batch_size=40, learning_rate_init = 0.005\n",
    "    \n",
    "Now, consider three different settings for the number of hidden units:\n",
    "    \n",
    "   (a) *hidden_layer_sizes = (2,)* (b) *hidden_layer_sizes = (8,)* (c) *hidden_layer_sizes = (15,)*\n",
    "    \n",
    "   Report the average Root Mean Squared Error (RMSE) value based on your 5-fold cross validation for each model: (a), (b), and (c) (5pts)\n",
    "      \n",
    "2) Now, using the same number of hidden units used in part 1), train MLPRegressor models on whole training data and report RMSE score for both Train and Test set (Again, use StandardScaler). Which model works the best, (a), (b), or (c)? Briefly analyze the result in terms of the number of hidden units. (3pts)\n",
    "\n",
    "3) MLPRegressor has a built-in attribute *loss\\_curve\\_* which returns the loss at each epoch (misleadingly referred to as \"iteration\" in scikit documentation, though they use epoch in the actual code!). For example, if your model is named as *my_model* you can call it as *my\\_model.loss\\_curve\\_* ([example](http://scikit-learn.org/stable/auto_examples/neural_networks/plot_mlp_training_curves.html#sphx-glr-auto-examples-neural-networks-plot-mlp-training-curves-py)). Plot three curves for model (a), (b), and (c) in one figure, where *X-axis* is epoch  number and *Y-axis* is squared root of *loss\\_curve\\_* value. (2pts)\n",
    "\n",
    "4) Use following parameter settings for MLPRegressor:\n",
    "\n",
    "    activation = 'tanh', solver = 'sgd', learning_rate='constant', random_state=42,\n",
    "    batch_size=40, hidden_layer_sizes = (15,)\n",
    "    \n",
    "Now, consider three different settings for the learning rates:\n",
    "    \n",
    "   (i) *learning_rate_init = 0.005* (ii) *learning_rate_init = 0.01* (iii) *learning_rate_init = 1*\n",
    "    \n",
    "   Report the average Root Mean Squared Error (RMSE) value based on your 5-fold cross validation for each model: (i), (ii), and (iii) (5pts)\n",
    "\n"
   ]
  },
  {
   "cell_type": "markdown",
   "metadata": {},
   "source": [
    "### 2.1)"
   ]
  },
  {
   "cell_type": "code",
   "execution_count": 175,
   "metadata": {
    "collapsed": true
   },
   "outputs": [],
   "source": [
    "from sklearn.preprocessing import StandardScaler\n",
    "X_scaler = StandardScaler()\n",
    "X_train = X_scaler.fit_transform(X_train)\n",
    "X_test = X_scaler.transform(X_test)"
   ]
  },
  {
   "cell_type": "code",
   "execution_count": 203,
   "metadata": {
    "collapsed": false
   },
   "outputs": [
    {
     "name": "stdout",
     "output_type": "stream",
     "text": [
      "When hidden_layer_size = 2, MLP RMSE = 5.678247\n",
      "When hidden_layer_size = 8, MLP RMSE = 4.343707\n",
      "When hidden_layer_size = 15, MLP RMSE = 3.848069\n"
     ]
    }
   ],
   "source": [
    "hidden_layer_sizes = [2,8,15]\n",
    "MLP_RMSEs = []\n",
    "for hidden_layer_size in hidden_layer_sizes:\n",
    "    MLP = MLPRegressor(hidden_layer_sizes = hidden_layer_size, activation = 'tanh', solver = 'sgd', learning_rate='constant', random_state=42,\n",
    "batch_size=40, learning_rate_init = 0.005)\n",
    "    RMSE = 0;\n",
    "    for train_index,test_index in k_fold.split(X_train,y_train):\n",
    "        input_train, input_test = X_train[train_index],X_train[test_index]\n",
    "        output_train, output_test = y_train.iloc[train_index],y_train.iloc[test_index] \n",
    "        MLP.fit(input_train, output_train.values)\n",
    "        RMSE += np.sqrt(mean_squared_error(MLP.predict(input_test),output_test.values))\n",
    "    MLP_RMSEs.append(RMSE/n_folds)\n",
    "    print(\"When hidden_layer_size = %d, MLP RMSE = %f\" %(hidden_layer_size, RMSE/n_folds))"
   ]
  },
  {
   "cell_type": "markdown",
   "metadata": {},
   "source": [
    "### 2.2)"
   ]
  },
  {
   "cell_type": "code",
   "execution_count": 200,
   "metadata": {
    "collapsed": false
   },
   "outputs": [
    {
     "name": "stdout",
     "output_type": "stream",
     "text": [
      "When hidden_layer_size = 2, MLP train RMSE = 5.023828, test RMSE = 4.961156\n",
      "When hidden_layer_size = 8, MLP train RMSE = 2.558155, test RMSE = 4.272383\n",
      "When hidden_layer_size = 15, MLP train RMSE = 1.964878, test RMSE = 3.933519\n"
     ]
    }
   ],
   "source": [
    "hidden_layer_sizes = [2,8,15]\n",
    "MLPs = []\n",
    "for hidden_layer_size in hidden_layer_sizes:\n",
    "    MLP = MLPRegressor(hidden_layer_sizes = hidden_layer_size, activation = 'tanh', solver = 'sgd', learning_rate='constant', random_state=42,\n",
    "batch_size=40, learning_rate_init = 0.005)\n",
    "    MLP.fit(X_train,y_train.values)  \n",
    "    MLPs.append(MLP)\n",
    "    train_RMSE = np.sqrt(mean_squared_error(MLP.predict(X_train),y_train.values))\n",
    "    test_RMSE = np.sqrt(mean_squared_error(MLP.predict(X_test),y_test.values))\n",
    "    print(\"When hidden_layer_size = %d, MLP train RMSE = %f, test RMSE = %f\" %(hidden_layer_size, train_RMSE,test_RMSE))"
   ]
  },
  {
   "cell_type": "markdown",
   "metadata": {},
   "source": [
    "The more hidden layers, the less RMSE for both train and test dataset. However, increasing the number of hidden layers can decrease the RMSE for train dataset more remarkably. "
   ]
  },
  {
   "cell_type": "markdown",
   "metadata": {},
   "source": [
    "### 2.3)"
   ]
  },
  {
   "cell_type": "code",
   "execution_count": 205,
   "metadata": {
    "collapsed": false
   },
   "outputs": [
    {
     "data": {
      "image/png": "[encoded data removed]",
      "text/plain": [
       "<matplotlib.figure.Figure at 0x113adbb38>"
      ]
     },
     "metadata": {},
     "output_type": "display_data"
    }
   ],
   "source": [
    "labels = [\"hidden_layers = 2\",\"hidden_layers = 8\",\"hidden_layers = 15\"]\n",
    "plot_args = [{'c': 'red', 'linestyle': '-'},\n",
    "             {'c': 'green', 'linestyle': '-'},\n",
    "             {'c': 'blue', 'linestyle': '-'}]\n",
    "\n",
    "for MLP, label, args in zip(MLPs,labels,plot_args):\n",
    "    plt.plot(np.sqrt(MLP.loss_curve_), label=label, **args)\n",
    "plt.show()"
   ]
  },
  {
   "cell_type": "markdown",
   "metadata": {},
   "source": [
    "### 2.4）"
   ]
  },
  {
   "cell_type": "code",
   "execution_count": 204,
   "metadata": {
    "collapsed": false
   },
   "outputs": [
    {
     "name": "stdout",
     "output_type": "stream",
     "text": [
      "When learning_rate_init = 0.005000, MLP RMSE = 3.848069\n",
      "When learning_rate_init = 0.010000, MLP RMSE = 4.130015\n",
      "When learning_rate_init = 1.000000, MLP RMSE = 54269491236369047421341289938944.000000\n"
     ]
    }
   ],
   "source": [
    "learning_rate_inits = [0.005,0.01,1]\n",
    "MLP_RMSEs = []\n",
    "for learning_rate_init in learning_rate_inits:\n",
    "    MLP = MLPRegressor(activation = 'tanh', solver = 'sgd', learning_rate='constant', random_state=42,\n",
    "batch_size=40, hidden_layer_sizes = (15,), learning_rate_init = learning_rate_init)\n",
    "    RMSE = 0;\n",
    "    for train_index,test_index in k_fold.split(X_train,y_train):\n",
    "        input_train, input_test = X_train[train_index],X_train[test_index]\n",
    "        output_train, output_test = y_train.iloc[train_index],y_train.iloc[test_index] \n",
    "        MLP.fit(input_train, output_train.values)\n",
    "        RMSE += np.sqrt(mean_squared_error(MLP.predict(input_test),output_test.values))\n",
    "    MLP_RMSEs.append(RMSE/n_folds)\n",
    "    print(\"When learning_rate_init = %f, MLP RMSE = %f\" %(learning_rate_init, RMSE/n_folds))"
   ]
  },
  {
   "cell_type": "markdown",
   "metadata": {},
   "source": [
    "# Question 3 - Stochastic Gradient Descent (10pts)\n",
    "\n",
    "1. Using stochastic gradient descent, derive the coefficent updates for all 4 coefficients of the model: $$ y = w_0 + w_1*x_1 + w_2*x_1x_2 + w_3*x_2 $$ Hint: start from the cost function (Assume sum of squared error). If you write the math by hand, submit that as a separate file and make a reference to it in your notebook, or include the image in your notebook. (3pts)\n",
    "2. Write Python code for an SGD solution to the non-linear model $$ y = w_0 + w_1*x_1 + w_2*x_1x_2 + w_3*x_2$$ Try to format similarly to scikit-learn's models. There should be a _fit_ function that takes parameters X, y, learning rate, and number of iterations, and a _predict_ function that takes an X value (optionally, an array of values). Use your new gradient descent regression to predict the data given in 'samples.csv', for 10 epochs, using learning rates: [.0001, .0003, .001] . Plot MSE and the $w$ parameters as a function of epoch count. (7pts)"
   ]
  },
  {
   "cell_type": "code",
   "execution_count": 296,
   "metadata": {
    "collapsed": false
   },
   "outputs": [],
   "source": [
    "class SGDRegressor():    \n",
    "    def __init__(self):\n",
    "        self.coef_ = None\n",
    "        self.MSE = []\n",
    "        self.coefs_ = []\n",
    "        \n",
    "    def fit(self, X, y, learning_rate, epochs):\n",
    "        if self.coef_ is None:\n",
    "            self.coef_ = np.zeros((4), dtype=np.float64, order=\"C\")\n",
    "        for epoch in range(epochs):\n",
    "            for feature, target in zip(X,y):\n",
    "                diff = self.update(learning_rate, feature, target)  \n",
    "                self.coef_ = [x - y for x, y in zip(self.coef_, diff)]\n",
    "            self.MSE.append(mean_squared_error(self.predict(X),y))\n",
    "            self.coefs_.append(self.coef_)\n",
    "    \n",
    "    def predict(self, X):\n",
    "        if self.coef_ is None:\n",
    "            self.coef_ = np.zeros((4), dtype=np.float64, order=\"C\")\n",
    "        predict_values = []\n",
    "        coefs = self.coef_\n",
    "        for x in X:\n",
    "            val = coefs[0] + coefs[1]*x[0] + coefs[2]*x[0]*x[1] + coefs[3]*x[1]\n",
    "            predict_values.append(val)\n",
    "        return predict_values\n",
    "        \n",
    "    def update(self, learning_rate, feature, target):\n",
    "        coefs = self.coef_\n",
    "        tmp = learning_rate*(coefs[0] + coefs[1]*feature[0] + coefs[2]*feature[0]*feature[1] + coefs[3]*feature[1] - target)\n",
    "        return [tmp * coef for coef in [1, feature[0], feature[0]*feature[1], feature[1]]]"
   ]
  },
  {
   "cell_type": "code",
   "execution_count": 297,
   "metadata": {
    "collapsed": false
   },
   "outputs": [],
   "source": [
    "import csv\n",
    "file = open(\"samples.csv\")\n",
    "dataset = csv.reader(file)\n",
    "\n",
    "features = []\n",
    "targets = []\n",
    "next(dataset)\n",
    "for row in dataset:\n",
    "    features.append([np.float64(row[1]),np.float64(row[2])])\n",
    "    targets.append(np.float64(row[3]))"
   ]
  },
  {
   "cell_type": "code",
   "execution_count": 298,
   "metadata": {
    "collapsed": false
   },
   "outputs": [],
   "source": [
    "learning_rates = [.0001, .0003, .001]\n",
    "MSEs = []\n",
    "coefficients = []\n",
    "for learning_rate in learning_rates:\n",
    "    SGD_regressor = SGDRegressor()\n",
    "    SGD_regressor.fit(features, targets, learning_rate, 10)\n",
    "    MSEs.append(SGD_regressor.MSE)\n",
    "    coefficients.append(SGD_regressor.coefs_)\n"
   ]
  },
  {
   "cell_type": "code",
   "execution_count": 303,
   "metadata": {
    "collapsed": false
   },
   "outputs": [
    {
     "data": {
      "text/plain": [
       "[[99.541490669468345,\n",
       "  26.269225989954805,\n",
       "  12.284929976830991,\n",
       "  9.4471209279783839,\n",
       "  8.7910061401908219,\n",
       "  8.597426827059488,\n",
       "  8.5160102881533479,\n",
       "  8.4669906280466467,\n",
       "  8.4290315982472634,\n",
       "  8.3953450681398056],\n",
       " [37.187066506548476,\n",
       "  12.845666891105386,\n",
       "  12.390227923225552,\n",
       "  12.218566169708584,\n",
       "  12.061609619371646,\n",
       "  11.907486381779815,\n",
       "  11.755498957726962,\n",
       "  11.605580988458234,\n",
       "  11.457702731360843,\n",
       "  11.311836891143823],\n",
       " [392289031.37402874,\n",
       "  8456933320773.7627,\n",
       "  1.8234787159573898e+17,\n",
       "  3.9317736875298154e+21,\n",
       "  8.4776664431167705e+25,\n",
       "  1.8279492674851874e+30,\n",
       "  3.9414130609166359e+34,\n",
       "  8.498450801173632e+38,\n",
       "  1.832430778091863e+43,\n",
       "  3.9510760667516289e+47]]"
      ]
     },
     "execution_count": 303,
     "metadata": {},
     "output_type": "execute_result"
    }
   ],
   "source": [
    "MSEs"
   ]
  },
  {
   "cell_type": "code",
   "execution_count": 306,
   "metadata": {
    "collapsed": false
   },
   "outputs": [
    {
     "data": {
      "image/png": "[encoded data removed]",
      "text/plain": [
       "<matplotlib.figure.Figure at 0x11883d710>"
      ]
     },
     "metadata": {},
     "output_type": "display_data"
    }
   ],
   "source": [
    "labels_MSE = [\"learning_rate = .0001\",\"learning_rate = .0003\",\"learning_rate = .001\"]\n",
    "# for MSE, label, args in zip(MSEs,labels_MSE,plot_args):\n",
    "plt.plot(MSEs[2], label=label, **args)\n",
    "plt.show()"
   ]
  },
  {
   "cell_type": "markdown",
   "metadata": {},
   "source": [
    "# Question 4 - Linear Regression: Least Squares and MLE (5pts)\n",
    "Consider linear regression with a single independent variable. Thus, predicted values are given by:  \n",
    "$$y  = w_0  + w_1 x$$\n",
    "\n",
    "Mathematically show that if the assumptions behind linear regression hold (slide 3 of the MLR slides), then the values of $w_0$ and $w_1$ obtained by minimizing MSE are indeed the  maximum likelihood solution of the corresponding underlying probability model relating the target variable to the input variable."
   ]
  },
  {
   "cell_type": "code",
   "execution_count": null,
   "metadata": {
    "collapsed": true
   },
   "outputs": [],
   "source": []
  },
  {
   "cell_type": "markdown",
   "metadata": {},
   "source": [
    "# Question 5 - Collinearity in Multiple Linear Regression (5pts)\n",
    "What do you understand by the collinearity problem that can be encountered in MLR? Suggest one way of alleviating this problem."
   ]
  },
  {
   "cell_type": "markdown",
   "metadata": {},
   "source": [
    "# Question 6 - Variable Selection Property of LASSO (5pts)\n",
    "\n",
    "Explain in your own words (max 2 paras) what the diamond, circular and elliptical shapes in Fig 6.7 of JW (page 222) mean, and how this figure tries to explain why lasso tends to drive the values of some parameters to zero more aggressively as compared to ridge regression."
   ]
  },
  {
   "cell_type": "code",
   "execution_count": null,
   "metadata": {
    "collapsed": true
   },
   "outputs": [],
   "source": []
  }
 ],
 "metadata": {
  "anaconda-cloud": {},
  "kernelspec": {
   "display_name": "Python 2",
   "language": "python",
   "name": "python2"
  },
  "language_info": {
   "codemirror_mode": {
    "name": "ipython",
    "version": 2
   },
   "file_extension": ".py",
   "mimetype": "text/x-python",
   "name": "python",
   "nbconvert_exporter": "python",
   "pygments_lexer": "ipython2",
   "version": "2.7.10"
  }
 },
 "nbformat": 4,
 "nbformat_minor": 0
}
